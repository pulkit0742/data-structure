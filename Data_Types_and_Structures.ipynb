{
 "cells": [
  {
   "cell_type": "markdown",
   "metadata": {
    "id": "bLHMAdDIKq4G"
   },
   "source": [
    "1. What are data structures, and why are they important?\n",
    "    - Data structures are the way of organizing and storing the data so that it can be accessed and modified efficiently. eg, Tuple, String, List, Dictionary, array etc.\n",
    "    - They are important because they are crucial for efficient data management and algorithm implementation, impacting the performance and scalability of software applications.\n",
    "\n",
    "2. Explain the difference between mutable and immutable data types with examples?\n",
    "    - Mutable data types are the type of data type which can be changed after its creation. eg, lists, dictionary, etc.\n",
    "    - eg: list=[1,2,3]\n",
    "          list[0]=4\n",
    "          #here now the original list[1,2,3] after list[0]=4 has become list[4,2,3]\n",
    "    - Immutable data types are the type of data type which cannot be changed after its creation. eg, Tuple, String\n",
    "    - eg, my_tuple = (1, 2, 3)\n",
    "    - my_tuple[0] = 4  # This will raise a TypeError\n",
    "\n",
    "3. What are the main differences between lists and tuples in Python?\n",
    "    - Main Differences Between Lists and Tuples in Python:\n",
    "      - Lists are mutable, tuples are immutable.\n",
    "      - Tuples are generally faster than lists due to their immutability.\n",
    "      - Tuples use less memory compared to lists\n",
    "\n",
    "4. Describe how dictionaries store data?\n",
    "    - Dictionaries store data in key-value pairs. Each key is hashed to a unique index in an array where the corresponding value is stored.\n",
    "    - eg, dict = {'name': 'Sonu', 'age': 26}\n",
    "        - here name is key while Sonu is value of key.\n",
    "\n",
    "5. Why might you use a set instead of a list in Python?\n",
    "    - Sets autimatically removes duplicate values while List don't do that.\n",
    "    - Also sets provides faster membership tests compared to lists.\n",
    "  \n",
    "6. What is a string in Python, and how is it different from a list?\n",
    "    - String is the sequence of characters which is immutable in nature and it contains only string data types and no other data types.\n",
    "    - While in other hand Lists are collection of items and is mutable data structure which can contains multiple data types.\n",
    "\n",
    "7. How do tuples ensure data integrity in Python?\n",
    "    - Since tuples are immutable in nature thats why, Once created, the elements of a tuple cannot be changed, ensuring that the data remains constant.\n",
    "\n",
    "8. What is a hash table, and how does it relate to dictionaries in Python?\n",
    "    - Hash Table: A data structure that maps keys to values using a hash function to compute an index into an array of buckets or slots.\n",
    "    - Relation to Dictionaries: Python dictionaries are implemented using hash tables.\n",
    "\n",
    "9. Can lists contain different data types in Python?\n",
    "    - Yes: Lists can contain elements of different data types, such as integers, strings, and even other lists.\n",
    "    - eg, mylist=[1,'Sonu',3.5]\n",
    "\n",
    "10. Explain why strings are immutable in Python?\n",
    "    - Immutability helps with performance optimization, memory efficiency, and thread safety. It also allows strings to be used as keys in dictionaries.\n",
    "\n",
    "11. What advantages do dictionaries offer over lists for certain tasks?\n",
    "    - Key-Value Mapping: Efficient for lookups, insertions, and deletions based on keys.\n",
    "    - Example: Storing user information where quick access to user details by username is needed.\n",
    "\n",
    "12. Describe a scenario where using a tuple would be preferable over a list.\n",
    "    - Storing coordinates of a point (x, y) where the values should not change.\n",
    "\n",
    "13. How do sets handle duplicate values in Python?\n",
    "    - Python set data structures inherently do not allow duplicate values. When we attempt to add duplicate values to a set, or when we create a set from an iterable that contains duplicates, the set will automatically discard the duplicates, storing only one instance of each unique element.\n",
    "\n",
    "14. How does the “in” keyword work differently for lists and dictionaries?\n",
    "    - In List \"in\" Checks for the presence of a value as an element.\n",
    "    - In Dictionary \"in\" checks for the presence of a key.\n",
    "\n",
    "15. Can you modify the elements of a tuple? Explain why or why not?\n",
    "    - Since Tuples data structure is immutable, meaning we cannot modify the elements of tuples once its created.\n",
    "\n",
    "16. What is a nested dictionary, and give an example of its use case?\n",
    "    - A nested dictionary is the dictionary within another dictionary.\n",
    "    - nested_dict = {'user1': {'name': 'Sonu', 'age': 25}, 'user2': {'name': 'Mantu', 'age': 22}}\n",
    "\n",
    "17.  Describe the time complexity of accessing elements in a dictionary.\n",
    "\n",
    "\n",
    "     - The time complexity of accessing elements in a Python dictionary (ie., looking up a value using its key) is, on average, O(1) (constant time).\n",
    "\n",
    "18. In what situations are lists preferred over dictionaries?\n",
    "    - When data naturally fits a sequence, where order and positional access are important, and duplicates are acceptable, a list is the preffered choice.\n",
    "\n",
    "19. Why are dictionaries considered unordered, and how does that affect data retrieval?\n",
    "    - Dictionaries are designed for fast, direct access to values when we have the unique key. Their \"unordered\" nature means we trade index-based access for extremely efficient key-based retrieval, making them ideal for mapping and lookup tasks.\n",
    "    - We cannot retrieve items using integer indices like my_dict[0]. We must know the exact key to retrieve its associated value.\n",
    "    - Data retrieval is inherently driven by the key. If we don't know the key, we have to iterate through the dictionary's keys or values to find what we're looking for, which is less efficient than a direct key lookup.\n",
    "\n",
    "20.  Explain the difference between a list and a dictionary in terms of data retrieval.\n",
    "\n",
    "\n",
    "    - Lists are for ordered collections where you want to retrieve \"the Nth item,\" like List[1]. - while dictionaries are for unordered collections where you want to retrieve \"the item named X.\n",
    "      eg, my_dict = {'name': 'Sonu', 'age': 26, 'city': 'Nashik'}\n",
    "      person_name = my_dict['name']\n",
    "      person_age = my_age['age']"
   ]
  },
  {
   "cell_type": "code",
   "execution_count": 2,
   "metadata": {
    "colab": {
     "base_uri": "https://localhost:8080/"
    },
    "id": "0iwfiOhfXh7v",
    "outputId": "90086e66-411f-42fe-93db-329f0026a99a"
   },
   "outputs": [
    {
     "name": "stdout",
     "output_type": "stream",
     "text": [
      "Sonu Pandit\n"
     ]
    }
   ],
   "source": [
    "#1.Write a code to create a string with your name and print it.\n",
    "name = \"Pulkit sharma\"\n",
    "print(name)"
   ]
  },
  {
   "cell_type": "code",
   "execution_count": 3,
   "metadata": {
    "colab": {
     "base_uri": "https://localhost:8080/"
    },
    "id": "Trnsi-BkYfKu",
    "outputId": "0a4681d7-029d-4164-f465-c41deb778342"
   },
   "outputs": [
    {
     "name": "stdout",
     "output_type": "stream",
     "text": [
      "11\n"
     ]
    }
   ],
   "source": [
    "#2.Write a code to find the length of the string \"Hello World\".\n",
    "print(len(\"Hello World\"))"
   ]
  },
  {
   "cell_type": "code",
   "execution_count": 4,
   "metadata": {
    "colab": {
     "base_uri": "https://localhost:8080/"
    },
    "id": "kKaxnw8RYpUJ",
    "outputId": "45bd90fd-eec5-490e-b4dc-465a9aa43b7f"
   },
   "outputs": [
    {
     "name": "stdout",
     "output_type": "stream",
     "text": [
      "Pyt\n"
     ]
    }
   ],
   "source": [
    "#3.Write a code to slice the first 3 characters from the string \"Python Programming\".\n",
    "string = \"Python Programming\"\n",
    "sliced_string = string[:3]\n",
    "print(sliced_string)"
   ]
  },
  {
   "cell_type": "code",
   "execution_count": 5,
   "metadata": {
    "colab": {
     "base_uri": "https://localhost:8080/"
    },
    "id": "4zyg0axGY5Ta",
    "outputId": "1b25437f-364c-48d8-84a3-b6f0e885055f"
   },
   "outputs": [
    {
     "name": "stdout",
     "output_type": "stream",
     "text": [
      "HELLO\n"
     ]
    }
   ],
   "source": [
    "#4.Write a code to convert the string \"hello\" to uppercase.\n",
    "string=\"hello\"\n",
    "uprString = string.upper()\n",
    "print(uprString)"
   ]
  },
  {
   "cell_type": "code",
   "execution_count": 7,
   "metadata": {
    "colab": {
     "base_uri": "https://localhost:8080/"
    },
    "id": "V4G1y9lFZNIF",
    "outputId": "c85aa7db-721c-4f71-90bd-7466ebea39ae"
   },
   "outputs": [
    {
     "name": "stdout",
     "output_type": "stream",
     "text": [
      "I like orange\n"
     ]
    }
   ],
   "source": [
    "#5.Write a code to replace the word \"apple\" with \"orange\" in the string \"I like apple\".\n",
    "String = \"I like apple\"\n",
    "repString = String.replace('apple', 'orange')\n",
    "print(repString)"
   ]
  },
  {
   "cell_type": "code",
   "execution_count": 8,
   "metadata": {
    "colab": {
     "base_uri": "https://localhost:8080/"
    },
    "id": "p60vnconZrUw",
    "outputId": "c99644dd-affa-4713-d1fe-77807d8ea972"
   },
   "outputs": [
    {
     "name": "stdout",
     "output_type": "stream",
     "text": [
      "[1, 2, 3, 4, 5]\n"
     ]
    }
   ],
   "source": [
    "#6.Write a code to create a list with numbers 1 to 5 and print it.\n",
    "numList= [1,2,3,4,5]\n",
    "print(numList)"
   ]
  },
  {
   "cell_type": "code",
   "execution_count": 9,
   "metadata": {
    "colab": {
     "base_uri": "https://localhost:8080/"
    },
    "id": "PsJN7b9DZ4D1",
    "outputId": "059a3ac1-1c52-4bdc-823c-d8d858450a45"
   },
   "outputs": [
    {
     "name": "stdout",
     "output_type": "stream",
     "text": [
      "[1, 2, 3, 4, 10]\n"
     ]
    }
   ],
   "source": [
    "#7.Write a code to append the number 10 to the list [1, 2, 3, 4].\n",
    "numList=[1, 2, 3, 4]\n",
    "numList.append(10)\n",
    "print(numList)"
   ]
  },
  {
   "cell_type": "code",
   "execution_count": 10,
   "metadata": {
    "colab": {
     "base_uri": "https://localhost:8080/"
    },
    "id": "3HjjH1Y_aKlc",
    "outputId": "fb010b8d-5b9e-4d4e-d92b-1b7c432bc0a9"
   },
   "outputs": [
    {
     "name": "stdout",
     "output_type": "stream",
     "text": [
      "[1, 2, 4, 5]\n"
     ]
    }
   ],
   "source": [
    "#8.Write a code to remove the number 3 from the list [1, 2, 3, 4, 5].\n",
    "nulList= [1, 2, 3, 4, 5]\n",
    "nulList.remove(3)\n",
    "print(nulList)"
   ]
  },
  {
   "cell_type": "code",
   "execution_count": 11,
   "metadata": {
    "colab": {
     "base_uri": "https://localhost:8080/"
    },
    "id": "rydMCF7NavRx",
    "outputId": "981f7103-99d1-4075-9a7b-a9a559d78b6d"
   },
   "outputs": [
    {
     "name": "stdout",
     "output_type": "stream",
     "text": [
      "b\n"
     ]
    }
   ],
   "source": [
    "#9.Write a code to access the second element in the list ['a', 'b', 'c', 'd'].\n",
    "alphList=['a', 'b', 'c', 'd']\n",
    "print(alphList[1])"
   ]
  },
  {
   "cell_type": "code",
   "execution_count": 13,
   "metadata": {
    "colab": {
     "base_uri": "https://localhost:8080/"
    },
    "id": "24yAOF7nbFUA",
    "outputId": "f45a5f2e-5724-48f5-ba38-9f16de9c4b33"
   },
   "outputs": [
    {
     "name": "stdout",
     "output_type": "stream",
     "text": [
      "[50, 40, 30, 20, 10]\n"
     ]
    }
   ],
   "source": [
    "#10.Write a code to reverse the list [10, 20, 30, 40, 50].\n",
    "numList=[10, 20, 30, 40, 50]\n",
    "print(numList[::-1])"
   ]
  },
  {
   "cell_type": "code",
   "execution_count": 14,
   "metadata": {
    "colab": {
     "base_uri": "https://localhost:8080/"
    },
    "id": "km_mM-16bfv7",
    "outputId": "a3d6bfdd-d745-4161-8f0f-54ec766677b5"
   },
   "outputs": [
    {
     "name": "stdout",
     "output_type": "stream",
     "text": [
      "(100, 200, 300)\n"
     ]
    }
   ],
   "source": [
    "#11. Write a code to create a tuple with the elements 100, 200, 300 and print it.\n",
    "fisrtTuple = (100,200,300)\n",
    "print(fisrtTuple)"
   ]
  },
  {
   "cell_type": "code",
   "execution_count": 15,
   "metadata": {
    "colab": {
     "base_uri": "https://localhost:8080/"
    },
    "id": "VMdjXw5ed6PX",
    "outputId": "00be140f-d60b-455c-a0fc-53929fca4404"
   },
   "outputs": [
    {
     "name": "stdout",
     "output_type": "stream",
     "text": [
      "blue\n"
     ]
    }
   ],
   "source": [
    "#12.Write a code to access the second-to-last element of the tuple ('red', 'green', 'blue', 'yellow').\n",
    "colTuple = ('red', 'green', 'blue', 'yellow')\n",
    "print(colTuple[-2])"
   ]
  },
  {
   "cell_type": "code",
   "execution_count": 17,
   "metadata": {
    "colab": {
     "base_uri": "https://localhost:8080/"
    },
    "id": "0dETQyY0eY7K",
    "outputId": "f971e943-be9b-467c-c529-33155e8929a0"
   },
   "outputs": [
    {
     "name": "stdout",
     "output_type": "stream",
     "text": [
      "5\n"
     ]
    }
   ],
   "source": [
    "#13. Write a code to find the minimum number in the tuple (10, 20, 5, 15).\n",
    "numTuple = (10, 20, 5, 15)\n",
    "print(min(numTuple))"
   ]
  },
  {
   "cell_type": "code",
   "execution_count": 20,
   "metadata": {
    "colab": {
     "base_uri": "https://localhost:8080/"
    },
    "id": "4jNYRdnyezzC",
    "outputId": "13586fdd-64bb-4ded-ed54-b92258aef915"
   },
   "outputs": [
    {
     "name": "stdout",
     "output_type": "stream",
     "text": [
      "1\n"
     ]
    }
   ],
   "source": [
    "#14.Write a code to find the index of the element \"cat\" in the tuple ('dog', 'cat', 'rabbit').\n",
    "aniTuple = ('dog', 'cat', 'rabbit')\n",
    "print(aniTuple.index('cat'))"
   ]
  },
  {
   "cell_type": "code",
   "execution_count": 23,
   "metadata": {
    "colab": {
     "base_uri": "https://localhost:8080/"
    },
    "id": "7Lk8cH1FfHJ6",
    "outputId": "68e7f94c-c349-4e10-e24f-ce5648f2e297"
   },
   "outputs": [
    {
     "name": "stdout",
     "output_type": "stream",
     "text": [
      "True\n"
     ]
    }
   ],
   "source": [
    "#15. Write a code to create a tuple containing three different fruits and check if \"kiwi\" is in it.\n",
    "fruTuple = ('Apple','mango','kiwi')\n",
    "ifKiwi= 'kiwi' in fruTuple\n",
    "print(ifKiwi)"
   ]
  },
  {
   "cell_type": "code",
   "execution_count": 24,
   "metadata": {
    "colab": {
     "base_uri": "https://localhost:8080/"
    },
    "id": "q7KLN8SfgG-f",
    "outputId": "1c2542d1-df91-4eef-8ad0-64892031c846"
   },
   "outputs": [
    {
     "name": "stdout",
     "output_type": "stream",
     "text": [
      "{'a', 'b', 'c'}\n"
     ]
    }
   ],
   "source": [
    "#16.Write a code to create a set with the elements 'a', 'b', 'c' and print it.\n",
    "alphSet = {'a','b','c'}\n",
    "print(alphSet)"
   ]
  },
  {
   "cell_type": "code",
   "execution_count": 25,
   "metadata": {
    "colab": {
     "base_uri": "https://localhost:8080/"
    },
    "id": "mjuJQqdugl9U",
    "outputId": "273804ba-d756-4552-bc66-c539af3638fb"
   },
   "outputs": [
    {
     "name": "stdout",
     "output_type": "stream",
     "text": [
      "None\n"
     ]
    }
   ],
   "source": [
    "#17.Write a code to clear all elements from the set {1, 2, 3, 4, 5}.\n",
    "alphSet =  {1, 2, 3, 4, 5}\n",
    "clearSet = alphSet.clear()\n",
    "print(clearSet)"
   ]
  },
  {
   "cell_type": "code",
   "execution_count": 27,
   "metadata": {
    "colab": {
     "base_uri": "https://localhost:8080/"
    },
    "id": "vY09Czb5g0hk",
    "outputId": "3edfd778-7477-4e3c-f18f-5bcb8f764b0b"
   },
   "outputs": [
    {
     "name": "stdout",
     "output_type": "stream",
     "text": [
      "{1, 2, 3}\n"
     ]
    }
   ],
   "source": [
    "#18.Write a code to remove the element 4 from the set {1, 2, 3, 4}\n",
    "alphaSet = {1, 2, 3, 4}\n",
    "remSet= alphaSet.remove(4)\n",
    "print(alphaSet)\n"
   ]
  },
  {
   "cell_type": "code",
   "execution_count": 28,
   "metadata": {
    "colab": {
     "base_uri": "https://localhost:8080/"
    },
    "id": "OfTvmP1KhSv7",
    "outputId": "1cb0ee91-7904-458b-d924-ecb8d1b5a3d2"
   },
   "outputs": [
    {
     "name": "stdout",
     "output_type": "stream",
     "text": [
      "{1, 2, 3, 4, 5}\n"
     ]
    }
   ],
   "source": [
    "#19.Write a code to find the union of two sets {1, 2, 3} and {3, 4, 5}.\n",
    "set1 = {1, 2, 3}\n",
    "set2 = {3, 4, 5}\n",
    "setUnion = set1.union(set2)\n",
    "print(setUnion)"
   ]
  },
  {
   "cell_type": "code",
   "execution_count": 29,
   "metadata": {
    "colab": {
     "base_uri": "https://localhost:8080/"
    },
    "id": "yhYVYpEfhpFy",
    "outputId": "dc0c82ea-9c5c-449c-ec61-788f699f9c8d"
   },
   "outputs": [
    {
     "name": "stdout",
     "output_type": "stream",
     "text": [
      "{3}\n"
     ]
    }
   ],
   "source": [
    "#20.Write a code to find the intersection of two sets {1, 2, 3} and {2, 3, 4}.\n",
    "set1 = {1, 2, 3}\n",
    "set2 = {3, 4, 5}\n",
    "setIntersect= set1.intersection(set2)\n",
    "print(setIntersect)"
   ]
  },
  {
   "cell_type": "code",
   "execution_count": 31,
   "metadata": {
    "colab": {
     "base_uri": "https://localhost:8080/"
    },
    "id": "HHTFIK0ih3Kf",
    "outputId": "6e1cfc71-1389-4733-ee51-bf0dbe623618"
   },
   "outputs": [
    {
     "name": "stdout",
     "output_type": "stream",
     "text": [
      "{'name': 'Sonu', 'age': '26', 'city': 'Nashik'}\n"
     ]
    }
   ],
   "source": [
    "#21.Write a code to create a dictionary with the keys \"name\", \"age\", and \"city\", and print it.\n",
    "perDict = {'name':'Sonu', 'age':'26', 'city':'Nashik'}\n",
    "print(perDict)"
   ]
  },
  {
   "cell_type": "code",
   "execution_count": 32,
   "metadata": {
    "colab": {
     "base_uri": "https://localhost:8080/"
    },
    "id": "hm1DoTe0jwu5",
    "outputId": "66fb1e7a-54ad-47b5-d393-9a5df2eda043"
   },
   "outputs": [
    {
     "name": "stdout",
     "output_type": "stream",
     "text": [
      "{'name': 'Sonu', 'age': '26', 'city': 'Nashik', 'Country': 'USA'}\n"
     ]
    }
   ],
   "source": [
    "#22.Write a code to add a new key-value pair \"country\": \"USA\" to the dictionary {'name': 'John', 'age': 25}\n",
    "perDict = {'name':'Sonu', 'age':'26', 'city':'Nashik'}\n",
    "perDict['Country']='USA'\n",
    "print(perDict)"
   ]
  },
  {
   "cell_type": "code",
   "execution_count": 33,
   "metadata": {
    "colab": {
     "base_uri": "https://localhost:8080/"
    },
    "id": "IPGtoZhjkG89",
    "outputId": "a6ae10ea-78a0-435e-8b4f-0dd01e05095e"
   },
   "outputs": [
    {
     "name": "stdout",
     "output_type": "stream",
     "text": [
      "Alice\n"
     ]
    }
   ],
   "source": [
    "#23.Write a code to access the value associated with the key \"name\" in the dictionary {'name': 'Alice', 'age': 30}\n",
    "persDict = {'name': 'Alice', 'age': 30}\n",
    "val = persDict['name']\n",
    "print(val)"
   ]
  },
  {
   "cell_type": "code",
   "execution_count": 35,
   "metadata": {
    "colab": {
     "base_uri": "https://localhost:8080/"
    },
    "id": "LDWWmfafkcgJ",
    "outputId": "9ee1c72d-495d-4bbf-a3d8-a66e678a9400"
   },
   "outputs": [
    {
     "name": "stdout",
     "output_type": "stream",
     "text": [
      "22\n",
      "{'name': 'Bob', 'city': 'New York'}\n"
     ]
    }
   ],
   "source": [
    "#24.Write a code to remove the key \"age\" from the dictionary {'name': 'Bob', 'age': 22, 'city': 'New York'}.\n",
    "bobdict = {'name': 'Bob', 'age': 22, 'city': 'New York'}\n",
    "remDic = bobdict.pop('age')\n",
    "print(remDic)\n",
    "print(bobdict)"
   ]
  },
  {
   "cell_type": "code",
   "execution_count": 36,
   "metadata": {
    "colab": {
     "base_uri": "https://localhost:8080/"
    },
    "id": "732-MK5zk2ZP",
    "outputId": "42f60858-2620-4dec-f7a0-aa2f37f766f9"
   },
   "outputs": [
    {
     "name": "stdout",
     "output_type": "stream",
     "text": [
      "True\n"
     ]
    }
   ],
   "source": [
    "#25. Write a code to check if the key \"city\" exists in the dictionary {'name': 'Alice', 'city': 'Paris'}\n",
    "nameDict = {'name': 'Alice', 'city': 'Paris'}\n",
    "doExist = 'city' in nameDict\n",
    "print(doExist)"
   ]
  },
  {
   "cell_type": "code",
   "execution_count": 39,
   "metadata": {
    "colab": {
     "base_uri": "https://localhost:8080/"
    },
    "id": "LPxtyYKpmWrK",
    "outputId": "a4667327-3fe1-4556-8e82-e11393c27b43"
   },
   "outputs": [
    {
     "name": "stdout",
     "output_type": "stream",
     "text": [
      "['Jyoti', 'Anjali', 'Ruchi']\n",
      "('Komal', 'Priti', 'Priyanka')\n",
      "{'Name': 'Komal', 'Age': '24', 'Relation': 'wife'}\n"
     ]
    }
   ],
   "source": [
    "#26.Write a code to create a list, a tuple, and a dictionary, and print them all.\n",
    "exList=['Jyoti','Anjali','Ruchi']\n",
    "exTuple=('Komal','Priti','Priyanka')\n",
    "exDict={'Name':'Komal','Age':'24','Relation':'wife'}\n",
    "print(exList)\n",
    "print(exTuple)\n",
    "print(exDict)"
   ]
  },
  {
   "cell_type": "code",
   "execution_count": 42,
   "metadata": {
    "colab": {
     "base_uri": "https://localhost:8080/"
    },
    "id": "A6x_SzQmndam",
    "outputId": "f168ab60-f03c-4d19-ab8b-3487bca9c33d"
   },
   "outputs": [
    {
     "name": "stdout",
     "output_type": "stream",
     "text": [
      "[3, 25, 41, 49, 57]\n"
     ]
    }
   ],
   "source": [
    "#27.Write a code to create a list of 5 random numbers between 1 and 100, sort it in ascending order, and print the result.(replaced)\n",
    "import random\n",
    "\n",
    "# Create a list of 5 random numbers between 1 and 100\n",
    "random_numbers = random.sample(range(1, 101), 5)\n",
    "\n",
    "# Sort the list in ascending order\n",
    "random_numbers.sort()\n",
    "\n",
    "# Print the result\n",
    "print(random_numbers)\n"
   ]
  },
  {
   "cell_type": "code",
   "execution_count": 43,
   "metadata": {
    "colab": {
     "base_uri": "https://localhost:8080/"
    },
    "id": "6ap45b_xnvQx",
    "outputId": "a360c51a-ccbf-4fed-bfec-1fdbb122010b"
   },
   "outputs": [
    {
     "name": "stdout",
     "output_type": "stream",
     "text": [
      "Nirma\n"
     ]
    }
   ],
   "source": [
    "#28.Write a code to create a list with strings and print the element at the third index.\n",
    "strList=['Hema','Rekha','Sushma','jaya','Nirma']\n",
    "thirdIndex=strList[4]\n",
    "print(thirdIndex)"
   ]
  },
  {
   "cell_type": "code",
   "execution_count": 45,
   "metadata": {
    "colab": {
     "base_uri": "https://localhost:8080/"
    },
    "id": "RTXLSYhMoNHC",
    "outputId": "b217d058-3187-4e6f-ec91-30f5939e30c2"
   },
   "outputs": [
    {
     "name": "stdout",
     "output_type": "stream",
     "text": [
      "{'Name': 'Komal', 'Age': '24', 'Relation': 'wife', 'MarriageDate': '10/03/2023'}\n"
     ]
    }
   ],
   "source": [
    "#29. Write a code to combine two dictionaries into one and print the result.\n",
    "Dict1={'Name':'Komal','Age':'24','Relation':'wife'}\n",
    "Dict2={'MarriageDate':'10/03/2023'}\n",
    "combDict={**Dict1,**Dict2}\n",
    "print(combDict)"
   ]
  },
  {
   "cell_type": "code",
   "execution_count": 46,
   "metadata": {
    "colab": {
     "base_uri": "https://localhost:8080/"
    },
    "id": "Q1cohJfPov3o",
    "outputId": "eca51bfb-7091-4419-80e3-4010ad0c8982"
   },
   "outputs": [
    {
     "name": "stdout",
     "output_type": "stream",
     "text": [
      "{'apple', 'banana', 'cherry'}\n"
     ]
    }
   ],
   "source": [
    "#30.Write a code to convert a list of strings into a set.\n",
    "string_list = [\"apple\", \"banana\", \"cherry\", \"apple\", \"banana\"]\n",
    "string_set = set(string_list)\n",
    "print(string_set)\n"
   ]
  }
 ],
 "metadata": {
  "colab": {
   "provenance": []
  },
  "kernelspec": {
   "display_name": "Python 3 (ipykernel)",
   "language": "python",
   "name": "python3"
  },
  "language_info": {
   "codemirror_mode": {
    "name": "ipython",
    "version": 3
   },
   "file_extension": ".py",
   "mimetype": "text/x-python",
   "name": "python",
   "nbconvert_exporter": "python",
   "pygments_lexer": "ipython3",
   "version": "3.12.7"
  }
 },
 "nbformat": 4,
 "nbformat_minor": 4
}
